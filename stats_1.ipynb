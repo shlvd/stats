{
 "cells": [
  {
   "cell_type": "code",
   "execution_count": 1,
   "metadata": {},
   "outputs": [],
   "source": [
    "import numpy as np\n",
    "import pandas as pd\n",
    "from scipy import stats"
   ]
  },
  {
   "cell_type": "code",
   "execution_count": 2,
   "metadata": {},
   "outputs": [
    {
     "name": "stdout",
     "output_type": "stream",
     "text": [
      "4.375 4.375 4.5 7\n"
     ]
    }
   ],
   "source": [
    "data = np.array([1,2,3,4,5,6,7,7])\n",
    "print(data.mean(), np.mean(data), np.median(data), stats.mode(data)[0][0])"
   ]
  },
  {
   "cell_type": "code",
   "execution_count": 3,
   "metadata": {},
   "outputs": [
    {
     "name": "stdout",
     "output_type": "stream",
     "text": [
      "20.015946024060298\n",
      "Sample variance: 400\n",
      "Sample std.dev: 20.0\n",
      "Range: 69\n",
      "69\n",
      "Quantiles:\n",
      "20% 39.800000000000004\n",
      "80% 77.4\n",
      "100% 93.0\n",
      "Interquartile range: 28.5\n"
     ]
    }
   ],
   "source": [
    "from statistics import variance, stdev\n",
    "game_points = np.array([35,56,43,59,63,79,35,41,64,43,93,60,77,24,82])\n",
    "print(game_points.std(ddof=1))\n",
    "dt_var = variance(game_points) ; print (\"Sample variance:\", dt_var)\n",
    "\n",
    "dt_std = stdev(game_points) ; print (\"Sample std.dev:\", dt_std)\n",
    "\n",
    "dt_rng = np.max(game_points,axis=0) - np.min(game_points,axis=0) ; print (\"Range:\",dt_rng)\n",
    "print(game_points.max() - game_points.min())\n",
    "print (\"Quantiles:\")\n",
    "for val in [20,80,100]:\n",
    "    dt_qntls = np.percentile(game_points,val)\n",
    "    print (str(val)+\"%\" ,dt_qntls)\n",
    "\n",
    "q75, q25 = np.percentile(game_points, [75 ,25]); print (\"Interquartile range:\",q75-q25)"
   ]
  },
  {
   "cell_type": "code",
   "execution_count": 4,
   "metadata": {},
   "outputs": [
    {
     "name": "stdout",
     "output_type": "stream",
     "text": [
      "TestStatistic: -4.381780460041329\n",
      "Critical value from t-table: -1.6991270265334977\n",
      "Lower tail p-value from t-table 7.035025729010886e-05\n"
     ]
    }
   ],
   "source": [
    "xbar = 990; mu0 = 1000; s = 12.5; n = 30\n",
    "t_smple = (xbar-mu0)/(s/np.sqrt(float(n))); print (\"TestStatistic:\", t_smple)\n",
    "alpha = 0.05\n",
    "t_alpha = stats.t.ppf(alpha,n-1)\n",
    "print (\"Critical value from t-table:\", t_alpha)\n",
    "p_val = stats.t.sf(np.abs(t_smple), n-1)\n",
    "print (\"Lower tail p-value from t-table\", p_val)"
   ]
  },
  {
   "cell_type": "code",
   "execution_count": 5,
   "metadata": {},
   "outputs": [
    {
     "name": "stdout",
     "output_type": "stream",
     "text": [
      "Prob. to score more than 67 is  17.872226751475175 %\n"
     ]
    }
   ],
   "source": [
    "xbar = 67; mu0 = 52; s = 16.3\n",
    "z = (67-52)/16.3\n",
    "p_val = 1- stats.norm.cdf(z)\n",
    "print (\"Prob. to score more than 67 is \", p_val*100,\"%\")"
   ]
  },
  {
   "cell_type": "code",
   "execution_count": 28,
   "metadata": {},
   "outputs": [
    {
     "data": {
      "text/html": [
       "<div>\n",
       "<style scoped>\n",
       "    .dataframe tbody tr th:only-of-type {\n",
       "        vertical-align: middle;\n",
       "    }\n",
       "\n",
       "    .dataframe tbody tr th {\n",
       "        vertical-align: top;\n",
       "    }\n",
       "\n",
       "    .dataframe thead th {\n",
       "        text-align: right;\n",
       "    }\n",
       "</style>\n",
       "<table border=\"1\" class=\"dataframe\">\n",
       "  <thead>\n",
       "    <tr style=\"text-align: right;\">\n",
       "      <th></th>\n",
       "      <th>ex_frequent</th>\n",
       "      <th>ex_none</th>\n",
       "      <th>ex_sometimes</th>\n",
       "    </tr>\n",
       "  </thead>\n",
       "  <tbody>\n",
       "    <tr>\n",
       "      <th>sm_heavy</th>\n",
       "      <td>7</td>\n",
       "      <td>1</td>\n",
       "      <td>3</td>\n",
       "    </tr>\n",
       "    <tr>\n",
       "      <th>sm_never</th>\n",
       "      <td>87</td>\n",
       "      <td>18</td>\n",
       "      <td>84</td>\n",
       "    </tr>\n",
       "    <tr>\n",
       "      <th>sm_occas</th>\n",
       "      <td>12</td>\n",
       "      <td>3</td>\n",
       "      <td>4</td>\n",
       "    </tr>\n",
       "    <tr>\n",
       "      <th>sm_regul</th>\n",
       "      <td>9</td>\n",
       "      <td>1</td>\n",
       "      <td>7</td>\n",
       "    </tr>\n",
       "  </tbody>\n",
       "</table>\n",
       "</div>"
      ],
      "text/plain": [
       "          ex_frequent  ex_none  ex_sometimes\n",
       "sm_heavy            7        1             3\n",
       "sm_never           87       18            84\n",
       "sm_occas           12        3             4\n",
       "sm_regul            9        1             7"
      ]
     },
     "execution_count": 28,
     "metadata": {},
     "output_type": "execute_result"
    }
   ],
   "source": [
    "a = np.array([[7,1,3], [87,18,84], [12,3,4], [9,1,7]])\n",
    "cols = np.array(['ex_frequent', 'ex_none', 'ex_sometimes'])\n",
    "idx = np.array(['sm_heavy', 'sm_never', 'sm_occas', 'sm_regul'])\n",
    "df = pd.DataFrame(a, columns=cols, index=idx)\n",
    "df"
   ]
  },
  {
   "cell_type": "code",
   "execution_count": 32,
   "metadata": {},
   "outputs": [
    {
     "data": {
      "text/plain": [
       "0.48284216946545633"
      ]
     },
     "execution_count": 32,
     "metadata": {},
     "output_type": "execute_result"
    }
   ],
   "source": [
    "contg = stats.chi2_contingency(observed= df)\n",
    "contg[1]\n",
    "# this means there is no dependency between the smoking habit and exercise behavior"
   ]
  },
  {
   "cell_type": "code",
   "execution_count": 39,
   "metadata": {},
   "outputs": [
    {
     "data": {
      "text/html": [
       "<div>\n",
       "<style scoped>\n",
       "    .dataframe tbody tr th:only-of-type {\n",
       "        vertical-align: middle;\n",
       "    }\n",
       "\n",
       "    .dataframe tbody tr th {\n",
       "        vertical-align: top;\n",
       "    }\n",
       "\n",
       "    .dataframe thead th {\n",
       "        text-align: right;\n",
       "    }\n",
       "</style>\n",
       "<table border=\"1\" class=\"dataframe\">\n",
       "  <thead>\n",
       "    <tr style=\"text-align: right;\">\n",
       "      <th></th>\n",
       "      <th>fertilizer_1</th>\n",
       "      <th>fertilizer_2</th>\n",
       "      <th>fertilizer_3</th>\n",
       "    </tr>\n",
       "  </thead>\n",
       "  <tbody>\n",
       "    <tr>\n",
       "      <th>0</th>\n",
       "      <td>62</td>\n",
       "      <td>54</td>\n",
       "      <td>48</td>\n",
       "    </tr>\n",
       "    <tr>\n",
       "      <th>1</th>\n",
       "      <td>62</td>\n",
       "      <td>56</td>\n",
       "      <td>62</td>\n",
       "    </tr>\n",
       "    <tr>\n",
       "      <th>2</th>\n",
       "      <td>90</td>\n",
       "      <td>58</td>\n",
       "      <td>92</td>\n",
       "    </tr>\n",
       "    <tr>\n",
       "      <th>3</th>\n",
       "      <td>42</td>\n",
       "      <td>36</td>\n",
       "      <td>96</td>\n",
       "    </tr>\n",
       "    <tr>\n",
       "      <th>4</th>\n",
       "      <td>84</td>\n",
       "      <td>72</td>\n",
       "      <td>92</td>\n",
       "    </tr>\n",
       "    <tr>\n",
       "      <th>5</th>\n",
       "      <td>64</td>\n",
       "      <td>34</td>\n",
       "      <td>80</td>\n",
       "    </tr>\n",
       "  </tbody>\n",
       "</table>\n",
       "</div>"
      ],
      "text/plain": [
       "   fertilizer_1  fertilizer_2  fertilizer_3\n",
       "0            62            54            48\n",
       "1            62            56            62\n",
       "2            90            58            92\n",
       "3            42            36            96\n",
       "4            84            72            92\n",
       "5            64            34            80"
      ]
     },
     "execution_count": 39,
     "metadata": {},
     "output_type": "execute_result"
    }
   ],
   "source": [
    "fert = np.array([[62, 54, 48], [62, 56, 62], [90, 58, 92],  [42, 36, 96], [84, 72, 92], [64, 34, 80]])\n",
    "df_fert = pd.DataFrame(fert, columns=['fertilizer_1', 'fertilizer_2','fertilizer_3'])\n",
    "df_fert"
   ]
  },
  {
   "cell_type": "code",
   "execution_count": 43,
   "metadata": {},
   "outputs": [
    {
     "name": "stdout",
     "output_type": "stream",
     "text": [
      "Statistic: 3.6634935025687523, p-value: 0.05063590143901569\n"
     ]
    }
   ],
   "source": [
    "one_way_anova = stats.f_oneway(df_fert[\"fertilizer_1\"],df_fert[\"fertilizer_2\"], df_fert[\"fertilizer_3\"])\n",
    "print(f'Statistic: {one_way_anova[0]}, p-value: {one_way_anova[1]}')\n",
    "#we can't reject the null hypothesis"
   ]
  },
  {
   "cell_type": "code",
   "execution_count": null,
   "metadata": {},
   "outputs": [],
   "source": []
  }
 ],
 "metadata": {
  "kernelspec": {
   "display_name": "Python 3",
   "language": "python",
   "name": "python3"
  },
  "language_info": {
   "codemirror_mode": {
    "name": "ipython",
    "version": 3
   },
   "file_extension": ".py",
   "mimetype": "text/x-python",
   "name": "python",
   "nbconvert_exporter": "python",
   "pygments_lexer": "ipython3",
   "version": "3.7.3"
  }
 },
 "nbformat": 4,
 "nbformat_minor": 2
}
